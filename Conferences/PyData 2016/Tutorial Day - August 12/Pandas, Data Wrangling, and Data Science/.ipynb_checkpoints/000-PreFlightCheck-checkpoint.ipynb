{
 "cells": [
  {
   "cell_type": "markdown",
   "metadata": {
    "collapsed": true
   },
   "source": [
    "## 000-Pre flight Check"
   ]
  },
  {
   "cell_type": "code",
   "execution_count": 1,
   "metadata": {
    "collapsed": false
   },
   "outputs": [
    {
     "name": "stdout",
     "output_type": "stream",
     "text": [
      "Last run @2016-08-12 11:01:50.548054-07:00\n"
     ]
    }
   ],
   "source": [
    "import datetime\n",
    "from pytz import timezone\n",
    "print(\"Last run @%s\" % (datetime.datetime.now(timezone('US/Pacific'))))\n",
    "#"
   ]
  },
  {
   "cell_type": "code",
   "execution_count": 4,
   "metadata": {
    "collapsed": false
   },
   "outputs": [
    {
     "name": "stdout",
     "output_type": "stream",
     "text": [
      "Python  sys.version_info(major=3, minor=5, micro=2, releaselevel='final', serial=0)\n",
      "Python  3.5.2\n",
      "numpy: 1.11.1\n",
      "scipy: 0.17.1\n",
      "pandas:  0.18.1\n",
      "   path : ['/Users/davidwilson/anaconda/lib/python3.5/site-packages/pandas']\n",
      "matplotlib: 1.5.1\n",
      "scikit-learn: 0.17.1\n"
     ]
    }
   ],
   "source": [
    "import sys\n",
    "print(\"Python \",sys.version_info)\n",
    "\n",
    "import platform\n",
    "print(\"Python \",platform.python_version())\n",
    "\n",
    "import numpy as np\n",
    "print( 'numpy:', np.__version__)\n",
    "#print '   path :',np.__path__\n",
    "\n",
    "import scipy\n",
    "print( 'scipy:', scipy.__version__)\n",
    "#print '   path :',scipy.__path__\n",
    "\n",
    "import pandas as pd\n",
    "print( 'pandas: ',pd.__version__)\n",
    "print( '   path :',pd.__path__)\n",
    "\n",
    "import matplotlib as plt\n",
    "print( 'matplotlib:', plt.__version__)\n",
    "#print '   path :',plt.__path__\n",
    "\n",
    "import sklearn\n",
    "print( 'scikit-learn:', sklearn.__version__)\n",
    "#print '   path :',sklearn.__path__\n",
    "\n",
    "# import psutil # Process & System Utilities\n",
    "# print 'psutil:',psutil.__version__\n",
    "# print psutil.virtual_memory()"
   ]
  },
  {
   "cell_type": "markdown",
   "metadata": {
    "collapsed": true
   },
   "source": [
    "## _That's All Folks !_"
   ]
  },
  {
   "cell_type": "code",
   "execution_count": null,
   "metadata": {
    "collapsed": true
   },
   "outputs": [],
   "source": []
  }
 ],
 "metadata": {
  "anaconda-cloud": {},
  "kernelspec": {
   "display_name": "Python [Root]",
   "language": "python",
   "name": "Python [Root]"
  },
  "language_info": {
   "codemirror_mode": {
    "name": "ipython",
    "version": 3
   },
   "file_extension": ".py",
   "mimetype": "text/x-python",
   "name": "python",
   "nbconvert_exporter": "python",
   "pygments_lexer": "ipython3",
   "version": "3.5.2"
  }
 },
 "nbformat": 4,
 "nbformat_minor": 0
}
