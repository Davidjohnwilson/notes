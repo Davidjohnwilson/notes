{
 "cells": [
  {
   "cell_type": "markdown",
   "metadata": {},
   "source": [
    "# Open sourcing python projects \n",
    "\n",
    "### Moshe Zadka"
   ]
  },
  {
   "cell_type": "markdown",
   "metadata": {},
   "source": [
    "Will cover how to open source a python project. This will mainly be Python 2 focused."
   ]
  },
  {
   "cell_type": "markdown",
   "metadata": {},
   "source": [
    "## Step One - `LICENSE`\n",
    "\n",
    "Choose a license. **Don't** make your own license! If you don't feel strongly then MIT is good, otherwise use the license chooser. \n",
    "\n",
    "Store it in LICENSE file in root."
   ]
  },
  {
   "cell_type": "markdown",
   "metadata": {},
   "source": [
    "## Step Two - `setup.py`\n",
    "\n",
    "Copy another `setup.py`...!\n",
    "\n",
    "Note that you should never have a `requirements.txt` file (this will over-constrain your project) - use `install_requirements`. \n",
    "\n",
    "The reason for `setup.py` is to package up your project for [PyPI](https://pypi.python.org/pypi)."
   ]
  },
  {
   "cell_type": "markdown",
   "metadata": {},
   "source": [
    "```python\n",
    "import setuptools\n",
    "\n",
    "setuptools.setup(\n",
    "    name='whatever',\n",
    "    version='0.0.1',\n",
    "    description='asdasdad',\n",
    "    long_description=open('README.rst').read(),\n",
    "    author='asdas',\n",
    "    author_email='asdasd',\n",
    "    url='asdsda',\n",
    "    license='MIT',\n",
    "    packages=setuptools.find_packages(),\n",
    "    install_requirements=['requests','sympy']\n",
    ")\n",
    "```"
   ]
  },
  {
   "cell_type": "markdown",
   "metadata": {},
   "source": [
    "## Step Three - `README.rst`\n",
    "\n",
    "Always use `rst`. This means you can set `long_description` to be `open('README.rst').read()` and PyPI can understand it. "
   ]
  },
  {
   "cell_type": "markdown",
   "metadata": {},
   "source": []
  },
  {
   "cell_type": "markdown",
   "metadata": {},
   "source": []
  },
  {
   "cell_type": "markdown",
   "metadata": {},
   "source": []
  },
  {
   "cell_type": "markdown",
   "metadata": {},
   "source": []
  },
  {
   "cell_type": "markdown",
   "metadata": {},
   "source": []
  },
  {
   "cell_type": "markdown",
   "metadata": {},
   "source": []
  },
  {
   "cell_type": "markdown",
   "metadata": {},
   "source": []
  },
  {
   "cell_type": "markdown",
   "metadata": {},
   "source": []
  },
  {
   "cell_type": "markdown",
   "metadata": {},
   "source": []
  }
 ],
 "metadata": {
  "anaconda-cloud": {},
  "kernelspec": {
   "display_name": "Python [Root]",
   "language": "python",
   "name": "Python [Root]"
  },
  "language_info": {
   "codemirror_mode": {
    "name": "ipython",
    "version": 3
   },
   "file_extension": ".py",
   "mimetype": "text/x-python",
   "name": "python",
   "nbconvert_exporter": "python",
   "pygments_lexer": "ipython3",
   "version": "3.5.2"
  }
 },
 "nbformat": 4,
 "nbformat_minor": 0
}
