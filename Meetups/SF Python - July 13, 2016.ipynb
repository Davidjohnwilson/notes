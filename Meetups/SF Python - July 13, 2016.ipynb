{
 "cells": [
  {
   "cell_type": "markdown",
   "metadata": {
    "nbpresent": {
     "id": "7aff8c7e-5d24-4478-ba75-bc916ac9cd11"
    }
   },
   "source": [
    "# Sports Analytics in Python\n",
    "\n",
    "## Richard Demsyn-Jones"
   ]
  },
  {
   "cell_type": "markdown",
   "metadata": {
    "nbpresent": {
     "id": "c6a24e1a-31cc-4f84-b040-3a0c89c295ef"
    }
   },
   "source": [
    "Analyst at Google and in spare times looked into evaluating quality in hockey/taking advantage of friends in fantasy hockey. Writings at oddacious.github.io\n",
    "\n",
    "*Sports Analytics* is the application of quantitative methods to the realm of sports. Surprisingly broad. Sports analytics are great if you live and breathe sports, or if you just get really passionate about sports.\n"
   ]
  },
  {
   "cell_type": "markdown",
   "metadata": {
    "nbpresent": {
     "id": "ff70a7e3-3abd-4f71-87a4-5921a1026771"
    }
   },
   "source": [
    "### Why Python?\n",
    "\n",
    "Not always Python: some Python, some R, some stata, some sas, and even some perl.\n",
    "\n",
    "But why python? It has a great community, easy coding for fast insights, awesome packages, growing and *consistent* data analysis codebase... and whilst your data will be ugly your code doesn't have to be. \n",
    "\n",
    "So with Python you can use stuff like: mechanize, urllib2, lxml, json, re, BeautifulSoup, CSV, SQLite, pandas, jupyter, matplotlib, sklearn."
   ]
  },
  {
   "cell_type": "markdown",
   "metadata": {
    "nbpresent": {
     "id": "d2e30391-edbb-495d-88ee-0052cc3fecd4"
    }
   },
   "source": [
    "### Where do you get your data from?\n",
    "\n",
    "We will particularly consider hockey. Have an occurrence of *events* (shots, goals, faceoffs etc) and know when and where they happened. We also know who was on the ice at any given time. But we don't know what happens between events or where people are at any point. \n",
    "\n",
    "Data might come from a JSON API, or parsable XML, or interactive webpages (might need to use mechanize), but not persistent player/ball tracking (which is present in basketball).\n"
   ]
  },
  {
   "cell_type": "markdown",
   "metadata": {
    "nbpresent": {
     "id": "183786ac-dbb0-46f5-8e35-26f40314df08"
    }
   },
   "source": [
    "### Case Study 1: Quantifying Goaltenders\n",
    "\n",
    "Who is the best goaltender? It's tough to separate the goalie from the team effort and we have a small sample of goals. Need to adjust for randomness and information we can identify (offense, number of shots at them, quality of those shots).\n",
    "\n",
    "Can divide into low/medium/high difficulty shots and adjust appropriately. But this isn't enough: there's high correlation between goalies and their backup which suggests that team effects are not totally isolated (or alternatively the teams who find the best starters also find the best backups).\n",
    "\n",
    "Also issue of small sample size. For evaluating playoff performance there is only a maximum of 28 games to get data from. Turns out the worst goalies played the least and the best goalies played the best.\n",
    "\n",
    "To combat this there's a couple of approaches. Bayesian updating of binomail data: take the priors of shots and goals an adjust with saves and shots (effectively consider the goalies that haven't played much as 'average' and the more a goalie plays the less they start as 'average'). Or we can use empirical distribution to establish variance: make up data by taking out blocks of continuous games from the regular season and generate streaks.\n",
    "\n",
    "\n",
    "\n"
   ]
  },
  {
   "cell_type": "markdown",
   "metadata": {
    "nbpresent": {
     "id": "6762ae5d-5dfb-4fb2-b325-004c428d59ff"
    }
   },
   "source": [
    "### Case Study 2: Fantasy Hockey\n",
    "\n",
    "You pick players and if they do well you win... \n",
    "\n",
    "Figure out your problem domain: work out what really matters, what restrictions are on your team, how the scoring works, the key dynamics of the gameplay etc.\n",
    "\n",
    "Predict what matters: predict every stat for every player through automatic LASSO models (sklearn - so could also build Random Forest classifiers etc).\n",
    "\n",
    "Develop an optimization criteria: team average across categories, standardized, weighted by predicatbility of the stat and diminishing in distance from average.\n",
    "\n",
    "Develop an optimization strategy: think in terms of Bayesian Nash Equilibrium, and model how my opponents draft.\n"
   ]
  },
  {
   "cell_type": "markdown",
   "metadata": {
    "nbpresent": {
     "id": "abcdbfe0-ae0b-48a8-8a2a-c2bc2ba1aa77"
    }
   },
   "source": []
  },
  {
   "cell_type": "markdown",
   "metadata": {
    "nbpresent": {
     "id": "eb4b9887-bd2c-4121-9825-f91453f77707"
    }
   },
   "source": [
    "# AI Planning with Graphplan in Python\n",
    "\n",
    "## Alex Kehayias"
   ]
  },
  {
   "cell_type": "markdown",
   "metadata": {},
   "source": [
    "From fr8.guru, previously CTO at Shareablee. @alexkehayias, github.com/alexkehayias"
   ]
  },
  {
   "cell_type": "markdown",
   "metadata": {},
   "source": [
    "### Automated planning and scheduling\n",
    "\n",
    "Artificial intelligence to pick optimal steps and the sequence.\n",
    "\n",
    "Example... Want to **Get Stuff Done**. Need to get code written amongst certain constraints such as needing caffeine or things being quiet. Want to ask the computer what sequence of events need to be completed to get things done.\n"
   ]
  },
  {
   "cell_type": "markdown",
   "metadata": {},
   "source": [
    "### Graphplan\n",
    "\n",
    "General purpose propositional planning algorithm. Achieves speed by reducing the search space. Guarantees shortest possible plan or there is no valid plan and finds ordering independence for potentially parallel actions. \n",
    "\n",
    "Need to have *propositions*: possible states (dressed, caffeinated).\n",
    "\n",
    "Need to have *actions*: assert preconditions and return postconditions (effects).\n",
    "\n",
    "Also have the concept of *no op actions*: an action that maintains a proposition (so precondition == postcondition).\n",
    "\n",
    "Then can build out the *planning graph*: explaining sequences of actions according to propositions that have already happened. \n",
    "\n",
    "\n"
   ]
  },
  {
   "cell_type": "markdown",
   "metadata": {},
   "source": [
    "### Building out the Graph\n",
    "\n",
    "We have to start with some initial conditions. The next layer is the actions that are supported by the current set of propositions. This generates the next layer of propositions (postconditions).\n",
    "\n",
    "To expand we generate the next action and proposition layer. Now we find *mutexes* (things that are mutually exclusive) which is finding where we can prune actions.\n",
    "\n",
    "An action mutex can be due to competing needs (propositions that need two negated actions), inconsistent effects (effect of one is negation of the other effect), or interference (one action deletes the precondition of the other action).\n",
    "\n",
    "A proposition mutex can be due to negation (if two propositions are negations) or inconsistent support (all actions to achieve the proposition in the previous level are pairwise mutex).\n"
   ]
  },
  {
   "cell_type": "markdown",
   "metadata": {},
   "source": [
    "### Searching for valid plans\n",
    "\n",
    "Need to see if all the goal conditions are present in the last proposition layer and make sure all goal conditions are not mutex.\n",
    "\n",
    "Then build out subgoals and keep checking mutexes as you backtrack.\n",
    "\n",
    "Can extend the algorithm by adding distance based goal ordering, jump back search, persisting failures, and forward search."
   ]
  },
  {
   "cell_type": "code",
   "execution_count": null,
   "metadata": {
    "collapsed": true
   },
   "outputs": [],
   "source": []
  }
 ],
 "metadata": {
  "anaconda-cloud": {},
  "kernelspec": {
   "display_name": "Python [Root]",
   "language": "python",
   "name": "Python [Root]"
  },
  "language_info": {
   "codemirror_mode": {
    "name": "ipython",
    "version": 3
   },
   "file_extension": ".py",
   "mimetype": "text/x-python",
   "name": "python",
   "nbconvert_exporter": "python",
   "pygments_lexer": "ipython3",
   "version": "3.5.2"
  },
  "nbpresent": {
   "slides": {},
   "themes": {}
  }
 },
 "nbformat": 4,
 "nbformat_minor": 0
}
