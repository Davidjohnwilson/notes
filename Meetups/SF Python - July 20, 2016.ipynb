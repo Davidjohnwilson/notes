{
 "cells": [
  {
   "cell_type": "markdown",
   "metadata": {},
   "source": [
    "# Open sourcing python projects \n",
    "\n",
    "### Moshe Zadka"
   ]
  },
  {
   "cell_type": "markdown",
   "metadata": {},
   "source": [
    "Will cover how to open source a python project. This will mainly be Python 2 focused. We will build a package called `whatever`. We are in a directory that contains a subdirectory `/whatever` with all the packages code in it.\n",
    "\n",
    "The steps will be:\n",
    "1. `LICENSE`\n",
    "* `setup.py`\n",
    "* `README.rst`\n",
    "* Tests\n",
    "* `tox`\n",
    "* Lint (`flex8`)\n",
    "* Coverage\n",
    "* Docs\n",
    "* Travis-CI\n",
    "* `versioneer`"
   ]
  },
  {
   "cell_type": "markdown",
   "metadata": {},
   "source": [
    "## Step One - `LICENSE`\n",
    "\n",
    "Choose a license. **Don't** make your own license! If you don't feel strongly then MIT is good, otherwise use the license chooser. \n",
    "\n",
    "Store it in LICENSE file in root."
   ]
  },
  {
   "cell_type": "markdown",
   "metadata": {},
   "source": [
    "## Step Two - `setup.py`\n",
    "\n",
    "Copy another `setup.py`...!\n",
    "\n",
    "Note that you should never have a `requirements.txt` file (this will over-constrain your project) - use `install_requirements`. \n",
    "\n",
    "The reason for `setup.py` is to package up your project for [PyPI](https://pypi.python.org/pypi)."
   ]
  },
  {
   "cell_type": "markdown",
   "metadata": {},
   "source": [
    "```python\n",
    "import setuptools\n",
    "\n",
    "setuptools.setup(\n",
    "    name='whatever',\n",
    "    version='0.0.1',\n",
    "    description='asdasdad',\n",
    "    long_description=open('README.rst').read(),\n",
    "    author='asdas',\n",
    "    author_email='asdasd',\n",
    "    url='asdsda',\n",
    "    license='MIT',\n",
    "    packages=setuptools.find_packages(),\n",
    "    install_requirements=['requests','sympy']\n",
    ")\n",
    "```"
   ]
  },
  {
   "cell_type": "markdown",
   "metadata": {},
   "source": [
    "## Step Three - `README.rst`\n",
    "\n",
    "Always use `rst`. This means you can set \n",
    "```python\n",
    "long_description=open('README.rst').read()\n",
    "```\n",
    "and PyPI can understand it. "
   ]
  },
  {
   "cell_type": "markdown",
   "metadata": {},
   "source": [
    "## Step Four - Tests\n",
    "\n",
    "Use native testing (`unittest`) or use `py.test`. Don't use `nose` as it is now in maintenance mode. For more complex cases you might want to use `trial` and `twisted`.\n",
    "\n",
    "Make a directory within your code directory (so it is a sub-package of the main package): for example, `whatever/test`. The nice side effect of this is that every installation of your package has the tests so that if you get a bug report they can run your tests.\n",
    "\n",
    "```bash\n",
    "touch whatever/test/__init__.py\n",
    "```\n",
    "\n",
    "and then the init file will start with \n",
    "\n",
    "```python\n",
    "from whatever import whatever\n",
    "```\n",
    "\n",
    "\n",
    "\n",
    "Run \n",
    "```bash\n",
    "pip install pytest\n",
    "```\n",
    "and then run \n",
    "```bash\n",
    "py.test whatever\n",
    "```"
   ]
  },
  {
   "cell_type": "markdown",
   "metadata": {},
   "source": [
    "## Step Five - `tox`\n",
    "\n",
    "This is the only correct way to run tests in Python! This is the way to check specific versions of packages etc. The [`tox` project](https://tox.readthedocs.io/en/latest/) covers this.\n",
    "\n",
    "It's also easy to integrate `tox` with CI systems.\n",
    "\n",
    "The `tox.ini` file defines which environments and versions to test against. Then simply run on the command line:\n",
    "```bash\n",
    "tox\n",
    "```\n",
    "\n",
    "\n",
    "Worth setting up an explicit `toxworkdir={toxinidir}/build/tox` in the `tox.ini` to save the `.pyc` files somewhere."
   ]
  },
  {
   "cell_type": "markdown",
   "metadata": {},
   "source": [
    "## Step Six - Lint (`flex8`)\n",
    "\n",
    "Currently the best thing to use is `pycodestyle`, which was formerly `pep8` (not `flex8`). \n",
    "\n",
    "\n"
   ]
  },
  {
   "cell_type": "markdown",
   "metadata": {},
   "source": [
    "## Step Seven - Coverage\n",
    "\n",
    "Use `coverage run py.test whatever` where you can also pass through other options."
   ]
  },
  {
   "cell_type": "markdown",
   "metadata": {},
   "source": [
    "## Step Eight - Docs\n",
    "\n",
    "Could talk forever about docs..."
   ]
  },
  {
   "cell_type": "markdown",
   "metadata": {},
   "source": [
    "## Step Nine - CI\n",
    "\n",
    "A good option is TravisCI. If you have specific needs then an alternative is buildbot or Jenkins."
   ]
  },
  {
   "cell_type": "markdown",
   "metadata": {},
   "source": [
    "## Step Ten - `versioneer`\n",
    "\n",
    "Best thing ever! Automatically translate tags in git to versions in your deployed versions. "
   ]
  },
  {
   "cell_type": "markdown",
   "metadata": {},
   "source": [
    "## Uploading to PyPI\n",
    "\n",
    "You can first upload to `testpypi` before uploading to `pypi`. It is cleared every night and is the way to test pypi."
   ]
  },
  {
   "cell_type": "markdown",
   "metadata": {},
   "source": [
    "All the notes are available on a [blog post](https://moshez.wordpress.com/2015/06/18/everything-but-the-code/)"
   ]
  },
  {
   "cell_type": "markdown",
   "metadata": {},
   "source": [
    "**Tip:**\n",
    "\n",
    "Always include in your files:\n",
    "```python\n",
    "from __future__ import absolute_import\n",
    "```\n"
   ]
  },
  {
   "cell_type": "code",
   "execution_count": null,
   "metadata": {
    "collapsed": true
   },
   "outputs": [],
   "source": []
  }
 ],
 "metadata": {
  "anaconda-cloud": {},
  "kernelspec": {
   "display_name": "Python [Root]",
   "language": "python",
   "name": "Python [Root]"
  },
  "language_info": {
   "codemirror_mode": {
    "name": "ipython",
    "version": 3
   },
   "file_extension": ".py",
   "mimetype": "text/x-python",
   "name": "python",
   "nbconvert_exporter": "python",
   "pygments_lexer": "ipython3",
   "version": "3.5.2"
  }
 },
 "nbformat": 4,
 "nbformat_minor": 0
}
